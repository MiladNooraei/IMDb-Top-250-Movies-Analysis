{
 "cells": [
  {
   "attachments": {},
   "cell_type": "markdown",
   "metadata": {},
   "source": [
    "Importing Libraries 📚"
   ]
  },
  {
   "cell_type": "code",
   "execution_count": 1,
   "metadata": {},
   "outputs": [],
   "source": [
    "import re\n",
    "import requests\n",
    "import pandas as pd\n",
    "from bs4 import BeautifulSoup\n",
    "from selenium import webdriver\n",
    "from selenium.webdriver.common.by import By\n",
    "from selenium.webdriver.common.keys import Keys\n",
    "from selenium.webdriver.chrome.options import Options\n",
    "from selenium.common.exceptions import NoSuchElementException"
   ]
  },
  {
   "attachments": {},
   "cell_type": "markdown",
   "metadata": {},
   "source": [
    "Getting all movies links from IMDB 🎥"
   ]
  },
  {
   "cell_type": "code",
   "execution_count": 2,
   "metadata": {},
   "outputs": [],
   "source": [
    "response = requests.get(\"https://www.imdb.com/chart/top/?ref_=nv_mv_250\")\n",
    "soup = BeautifulSoup(response.text, \"html.parser\")\n",
    "table = soup.find(\"table\", {\"class\" : \"chart full-width\"})\n",
    "rows = table.find_all(\"tr\")[1:]\n",
    "links = []\n",
    "for i in rows:\n",
    "    title_col = i.find(\"td\", {\"class\" : \"titleColumn\"})\n",
    "    link = title_col.a[\"href\"]\n",
    "    links += [\"https://www.imdb.com\" + link]"
   ]
  },
  {
   "attachments": {},
   "cell_type": "markdown",
   "metadata": {},
   "source": [
    "Getting Data from IMDB 🔍"
   ]
  },
  {
   "cell_type": "code",
   "execution_count": 14,
   "metadata": {},
   "outputs": [],
   "source": [
    "chrome_options = Options()\n",
    "chrome_options.add_argument(\"--lang=en-US\")\n",
    "driver = webdriver.Chrome(options = chrome_options)\n",
    "\n",
    "IMDB_df = pd.DataFrame({\"id\" : [], \"title\" : [], \"year\" : [], \"parental_guide\" : [], \"runtime\" : [], \"genre\" : [],\n",
    "                        \"director\" : [], \"writer\" : [], \"star\" : [], \"gross_us_canada\" : []})\n",
    "\n",
    "names, name_id = [], []\n",
    "\n",
    "for i in links:\n",
    "    url = i\n",
    "    driver.get(i)\n",
    "    res = {}\n",
    "\n",
    "    id = re.findall(r\"\\d+\", i)[0]\n",
    "    res[\"id\"] = id\n",
    "\n",
    "    try:\n",
    "        title = driver.find_element(By.CSS_SELECTOR,\"h1[data-testid='hero__pageTitle'] span\").text\n",
    "        res[\"title\"] = title\n",
    "    except NoSuchElementException:\n",
    "        title = None\n",
    "\n",
    "    try:\n",
    "        year = driver.find_element(By.CSS_SELECTOR, \"a[href*='releaseinfo']\").text\n",
    "        res[\"year\"] = year\n",
    "    except NoSuchElementException:\n",
    "        year = None\n",
    "\n",
    "    try:\n",
    "        parental_guide = driver.find_element(By.CSS_SELECTOR, \"a[href*='/parentalguide/certificates']\").text\n",
    "        res[\"parental_guide\"] = parental_guide\n",
    "    except NoSuchElementException:\n",
    "        parental_guide = None\n",
    "\n",
    "    try:\n",
    "        duration = driver.find_elements(By.XPATH, \"//li[@class='ipc-inline-list__item']\")[5].text\n",
    "        pattern = re.compile(r\"(?:(\\d+)h\\s*)?(?:(\\d+)m)?\")\n",
    "        match = pattern.match(duration)\n",
    "        hours = int(match.group(1) or 0)\n",
    "        minutes = int(match.group(2) or 0)\n",
    "        runtime = hours * 60 + minutes\n",
    "        res[\"runtime\"] = runtime\n",
    "    except NoSuchElementException:\n",
    "        runtime = None\n",
    "\n",
    "    try:\n",
    "        genre_list = driver.find_elements(By.XPATH, \"//a[@class='ipc-chip ipc-chip--on-baseAlt']\")\n",
    "        for i in range(len(genre_list)):\n",
    "            genre_list[i] = genre_list[i].text\n",
    "        genre = \", \".join(genre_list)\n",
    "        res[\"genre\"] = genre\n",
    "    except NoSuchElementException:\n",
    "        genre = None\n",
    "\n",
    "    try:\n",
    "        headers = {\"User-Agent\": \"Mozilla/5.0 (Windows NT 10.0; Win64; x64) AppleWebKit/537.36 (KHTML, like Gecko) Chrome/58.0.3029.110 Safari/537.36\", \"accept-language\": \"en-US,en;q=0.9\"}        page = requests.get(url, headers = headers)\n",
    "        soup = BeautifulSoup(page.content, \"html.parser\")\n",
    "        scrape = soup.find_all(\"ul\", class_ = \"ipc-metadata-list ipc-metadata-list--dividers-all title-pc-list ipc-metadata-list--baseAlt\")\n",
    "        cast_list = scrape[0].findAll(\"li\")\n",
    "        for i in range(len(cast_list)):\n",
    "            cast_list[i] = cast_list[i].text\n",
    "            if cast_list[i].startswith(\"Directors\") or cast_list[i].startswith(\"Director\"):\n",
    "                cast_list[i] = \"Director\"\n",
    "            if cast_list[i].startswith(\"Writers\") or cast_list[i].startswith(\"Writer\"):\n",
    "                cast_list[i] = \"Writer\"\n",
    "            if cast_list[i].startswith(\"Stars\") or cast_list[i].startswith(\"Star\"):\n",
    "                cast_list[i] = \"Star\"\n",
    "\n",
    "        index_director, index_writer, index_star = cast_list.index(\"Director\"), cast_list.index(\"Writer\"), cast_list.index(\"Star\")\n",
    "        director = \", \".join(cast_list[index_director+1:index_writer])\n",
    "        writer = \", \".join(cast_list[index_writer+1:index_star])\n",
    "        star = \", \".join(cast_list[index_star+1:])\n",
    "\n",
    "        res[\"director\"] = director\n",
    "        res[\"writer\"] = writer\n",
    "        res[\"star\"] = star\n",
    "\n",
    "        for i in cast_list:\n",
    "            if i not in [\"Director\", \"Writer\", \"Star\"]:\n",
    "                names += [i]\n",
    "\n",
    "        for a in scrape[0].find_all(\"a\", href = True):\n",
    "            if a[\"href\"].startswith(\"/name/\"):\n",
    "                li = a[\"href\"].replace(\"/name/\", \"\")\n",
    "                name_id += [re.findall(r\"\\d+\", li)[0]]\n",
    "\n",
    "    except NoSuchElementException:\n",
    "        director = None\n",
    "        writer = None\n",
    "        star = None\n",
    "\n",
    "    try:\n",
    "        gross_us_canada_txt = driver.find_elements(By.XPATH,\"//span[@class='ipc-metadata-list-item__list-content-item']\")\n",
    "        if len(gross_us_canada_txt) > 3:\n",
    "            gross_us_canada_txt = driver.find_elements(By.XPATH,\"//span[@class='ipc-metadata-list-item__list-content-item']\")[3].text\n",
    "            gross_us_canada = gross_us_canada_txt.replace(\",\", \"\").replace(\"$\", \"\")\n",
    "        else:\n",
    "            gross_us_canada = None\n",
    "        res[\"gross_us_canada\"] = gross_us_canada\n",
    "    except NoSuchElementException:\n",
    "        gross_us_canada = None\n",
    "\n",
    "    IMDB_df = IMDB_df.append(res, ignore_index = True)\n",
    "\n",
    "IMDB_df[\"runtime\"] = IMDB_df[\"runtime\"].astype(int)"
   ]
  },
  {
   "attachments": {},
   "cell_type": "markdown",
   "metadata": {},
   "source": [
    "DataFrame for Movies detail 🎬"
   ]
  },
  {
   "cell_type": "code",
   "execution_count": 15,
   "metadata": {},
   "outputs": [],
   "source": [
    "IMDB_df[\"gross_us_canada\"] = IMDB_df[\"gross_us_canada\"].apply(lambda x : x if str(x).isnumeric() else None)\n",
    "IMDB_df.to_csv(\"IMDB_Movies.csv\", index = False)"
   ]
  },
  {
   "attachments": {},
   "cell_type": "markdown",
   "metadata": {},
   "source": [
    "DataFrame for Casts detail 🎭"
   ]
  },
  {
   "cell_type": "code",
   "execution_count": 16,
   "metadata": {},
   "outputs": [],
   "source": [
    "IMDB_character_df = pd.DataFrame({\"name\" : names, \"name_id\" : name_id})\n",
    "IMDB_character_df = IMDB_character_df.drop_duplicates()\n",
    "IMDB_character_df.to_csv(\"IMDB_Names.csv\", index = False)"
   ]
  }
 ],
 "metadata": {
  "kernelspec": {
   "display_name": "qenv",
   "language": "python",
   "name": "qenv"
  },
  "language_info": {
   "codemirror_mode": {
    "name": "ipython",
    "version": 3
   },
   "file_extension": ".py",
   "mimetype": "text/x-python",
   "name": "python",
   "nbconvert_exporter": "python",
   "pygments_lexer": "ipython3",
   "version": "3.9.6"
  },
  "orig_nbformat": 4
 },
 "nbformat": 4,
 "nbformat_minor": 2
}
